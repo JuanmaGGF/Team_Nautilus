{
 "cells": [
  {
   "cell_type": "markdown",
   "metadata": {},
   "source": [
    "# Guión de presentación 'Hundir la flota'"
   ]
  },
  {
   "cell_type": "markdown",
   "metadata": {},
   "source": [
    "#### PRESENTACIÓN TÉCNICA\n",
    "1. Mostrar PPT con Workflow\n",
    "2. Mostrar archivos en GitHub\n",
    "4. Detalle de código en los Scripts\n",
    "\n",
    "\n",
    "\n",
    "#### PRESENTACIÓN DE NEGOCIO\n",
    "\n",
    ">Haremos 3 partidas:\n",
    ">>- Partida 1: en '*main.py*' dejamos '**ocultar_barcos = False**' para mostrar la mayor parte de funcionalidades más rápidamente\n",
    ">>- Partida 2: simplemente la iniciamos para mostrar que los barcos de ambos jugadores se han situado en otra posición (al azar).\n",
    ">>- En la partida 3, en '*main.py*' ponemos '**ocultar_barcos = True**' para mostrar en modo real el resto de funcionalidades (coordenadas erróneas...)\n",
    ">>\n",
    "\n",
    "**Partida 1**\n",
    "1. En *'variables.py'*, configuramos BARCOS con solo 1 destructor y 1 submarino ==> **BARCOS = {'Submarino' : (1, 1), 'Destructor' : (1, 1)}**. Y decimos explícitamente que es para abreviarlo.\n",
    "2. Iniciar juego y disparar en casilla de agua ==> **\"¡Agua!\"** y mostramos **\"-\"**\n",
    "3. Dispara la máquina ==> **\"¡Agua!\"** o **\"¡Tocado!\"**\n",
    "4. Disparamos barcos de la máquina ==> **\"¡Tocado!\"** y mostramos **\"X\"**\n",
    "5. Seguimos disparando hasta hundir los barcos de la máquina ==> **\"Fin de partida: ¡GANASTE!\"**\n",
    "\n",
    "**Partida 2**\n",
    "1. Iniciamos nueva partida y mostramos que los barcos están en otras posiciones aleatorias\n",
    "2. Tecleamos 'exit'\n",
    "\n",
    "**Partida 3**\n",
    "1. Iniciamos nueva partida con **ocultar_barcos = True** en *main.py*\n",
    "2. Tecleamos casilla fuera del tablero ==> **\"Coordenadas no válidas. Elige otras.\"**\n",
    "3. Tecleamos 'exit'\n"
   ]
  },
  {
   "cell_type": "markdown",
   "metadata": {},
   "source": []
  }
 ],
 "metadata": {
  "language_info": {
   "name": "python"
  }
 },
 "nbformat": 4,
 "nbformat_minor": 2
}
